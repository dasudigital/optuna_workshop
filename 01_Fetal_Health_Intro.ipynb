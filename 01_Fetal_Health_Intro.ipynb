{
 "cells": [
  {
   "cell_type": "markdown",
   "id": "526d0083-e1d0-41d4-9063-93eba91b1efe",
   "metadata": {
    "tags": []
   },
   "source": [
    "***Author**: Alexander Telle, DASU - Transferzentrum für Digitalisierung, Analytics & Data Science Ulm*\n",
    "\n",
    "***Data Source**: [Kaggle](https://www.kaggle.com/datasets/andrewmvd/fetal-health-classification)*\n",
    "\n",
    "***Code Repository**:*\n",
    "\n",
    "***Licence**:*\n",
    "\n",
    "***Optuna Documentation**: [https://optuna.readthedocs.io/en/stable/](https://optuna.readthedocs.io/en/stable/)*"
   ]
  },
  {
   "cell_type": "markdown",
   "id": "919c7278-f9d2-4a0f-b91b-2e69551ca4b9",
   "metadata": {},
   "source": [
    "# [III. Innovationskongress Data Science](https://studium.hs-ulm.de/de/research/Seiten/Innokongress.aspx)\n",
    "#### Workshop: Hyperparameter-Tuning (HPO) mit Optuna\n",
    "---"
   ]
  },
  {
   "cell_type": "markdown",
   "id": "2daa9ec8-0e85-451a-b0e8-dcf15ea375d9",
   "metadata": {},
   "source": [
    "> **Import der Bibliotheken & allgemeine Einstellungen**:"
   ]
  },
  {
   "cell_type": "code",
   "execution_count": null,
   "id": "fb0c9938-0ca2-4715-ac44-63f5af1ba393",
   "metadata": {},
   "outputs": [],
   "source": [
    "import pandas as pd\n",
    "import numpy as np\n",
    "import matplotlib.pyplot as plt\n",
    "import random\n",
    "import warnings\n",
    "warnings.filterwarnings('ignore')\n",
    "\n",
    "from sklearn.preprocessing import OrdinalEncoder\n",
    "from sklearn.model_selection import train_test_split\n",
    "from sklearn.utils.class_weight import compute_class_weight\n",
    "from torch.optim.lr_scheduler import CosineAnnealingLR\n",
    "\n",
    "import torch\n",
    "import torch.nn as nn"
   ]
  },
  {
   "cell_type": "code",
   "execution_count": null,
   "id": "e7e74db7-34da-4c26-80df-20a03078e958",
   "metadata": {},
   "outputs": [],
   "source": [
    "EPOCHS = 50\n",
    "CLASSES = 3\n",
    "\n",
    "torch.manual_seed(42)\n",
    "random.seed(42)\n",
    "RANDOM_SEED = 42"
   ]
  },
  {
   "cell_type": "markdown",
   "id": "0e15fea7-7cb1-4bc1-8611-e1e05cf0c30c",
   "metadata": {},
   "source": [
    "> **Definition der Hyperparameter (Auswahl)**:"
   ]
  },
  {
   "cell_type": "code",
   "execution_count": null,
   "id": "f29646f1-8945-4fd8-883c-fb5b68c6548b",
   "metadata": {},
   "outputs": [],
   "source": [
    "NN_ARCHITECTURE = [15, 10]\n",
    "BATCH_SIZE = 100\n",
    "OPTIMIZER = 'Adam' # SGD vs. Adam vs. RMSprop\n",
    "LEARNING_RATE = 1\n",
    "WEIGHT_DECAY = 1\n",
    "SCHEDULER = True"
   ]
  },
  {
   "cell_type": "raw",
   "id": "132aed6a-302d-452d-b44e-977c870b2d49",
   "metadata": {},
   "source": [
    "<img src='NN_Architecture.svg'>"
   ]
  },
  {
   "cell_type": "markdown",
   "id": "09ed8c28-1cf9-4983-96d6-7ad8c4e55f7c",
   "metadata": {},
   "source": [
    "> **Vorbereitung der Daten**:"
   ]
  },
  {
   "cell_type": "code",
   "execution_count": null,
   "id": "a208c069-1d47-4e8a-a31f-8ac1aaca3fe0",
   "metadata": {},
   "outputs": [],
   "source": [
    "data = pd.read_csv('Data.csv')\n",
    "data.head()"
   ]
  },
  {
   "cell_type": "code",
   "execution_count": null,
   "id": "d441d27b-ffc8-4932-bc4a-f6b7ae956411",
   "metadata": {},
   "outputs": [],
   "source": [
    "len(data)"
   ]
  },
  {
   "cell_type": "code",
   "execution_count": null,
   "id": "49f10486-ef67-42ed-917b-7a00a54b3519",
   "metadata": {},
   "outputs": [],
   "source": [
    "data.isnull().any().any()"
   ]
  },
  {
   "cell_type": "code",
   "execution_count": null,
   "id": "93d7662b-c01c-4949-ba4a-8bd287f1019c",
   "metadata": {},
   "outputs": [],
   "source": [
    "data.fetal_health.value_counts().plot(kind='bar')\n",
    "data.fetal_health.value_counts()"
   ]
  },
  {
   "cell_type": "code",
   "execution_count": null,
   "id": "a9f3fe70-4bce-4df6-ae6f-a043afbc3c18",
   "metadata": {},
   "outputs": [],
   "source": [
    "null_accuracy = data.fetal_health.value_counts()[1.0]/len(data)\n",
    "null_accuracy"
   ]
  },
  {
   "cell_type": "code",
   "execution_count": null,
   "id": "5066a2d2-ce45-4e31-9877-17a36a592cf3",
   "metadata": {},
   "outputs": [],
   "source": [
    "encoder = OrdinalEncoder()\n",
    "oe_columns = ['fetal_health']\n",
    "encoder.fit(data[oe_columns])\n",
    "data[oe_columns] = encoder.transform(data[oe_columns])"
   ]
  },
  {
   "cell_type": "code",
   "execution_count": null,
   "id": "469780ed-b1b6-4299-a569-bbe1a278d034",
   "metadata": {},
   "outputs": [],
   "source": [
    "data.fetal_health.value_counts()"
   ]
  },
  {
   "cell_type": "markdown",
   "id": "afef90c0-6041-4556-8585-a9050427fed8",
   "metadata": {},
   "source": [
    "> **Erstellung von Helfer-Klassen & -Methoden**:"
   ]
  },
  {
   "cell_type": "code",
   "execution_count": null,
   "id": "2d745fc7-b87e-400b-be7c-efd18690749b",
   "metadata": {},
   "outputs": [],
   "source": [
    "class FetalHealthData(torch.utils.data.Dataset):\n",
    "    def __init__(self, data):\n",
    "        self.labels = data.fetal_health.tolist()\n",
    "        self.features = data.drop(columns=['fetal_health'], axis=1).values.tolist()\n",
    "    \n",
    "    def __getitem__(self, index):\n",
    "        sample = np.array(self.features[index]), np.array(self.labels[index])\n",
    "        return sample\n",
    "        \n",
    "    def __len__(self):\n",
    "        return len(self.labels)"
   ]
  },
  {
   "cell_type": "code",
   "execution_count": null,
   "id": "edf81872-ff3b-4a3c-b5e5-b9d06965400d",
   "metadata": {},
   "outputs": [],
   "source": [
    "# HP: Hiden Layer 0, Hidden Layer 1\n",
    "def get_model():\n",
    "    \n",
    "    ###\n",
    "    layer_0 = NN_ARCHITECTURE[0]\n",
    "    layer_1 = NN_ARCHITECTURE[1]\n",
    "    ###\n",
    "    \n",
    "    layers = list()\n",
    "    \n",
    "    # 21 Input Features\n",
    "    in_features = len(data.drop(columns=['fetal_health'], axis=1).columns)\n",
    "    \n",
    "    # Input Layer -> Hidden Layer 0\n",
    "    layers.append(nn.Linear(in_features, layer_0))\n",
    "    layers.append(nn.LeakyReLU())\n",
    "    \n",
    "    # Hidden Layer 0 -> Hidden Layer 1\n",
    "    layers.append(nn.Linear(layer_0, layer_1))\n",
    "    layers.append(nn.LeakyReLU())\n",
    "    \n",
    "    # Hidden Layer 1 -> Output Layer (3 Classes)\n",
    "    layers.append(nn.Dropout())\n",
    "    layers.append(nn.Linear(layer_1, CLASSES))\n",
    "\n",
    "    return nn.Sequential(*layers)"
   ]
  },
  {
   "cell_type": "code",
   "execution_count": null,
   "id": "409dfc39-4b8d-4ab8-a624-75c154dc7588",
   "metadata": {},
   "outputs": [],
   "source": [
    "# HP: Batch Size\n",
    "def get_data():\n",
    "    \n",
    "    ###\n",
    "    batch_size = BATCH_SIZE\n",
    "    ###\n",
    "    \n",
    "    training_data, testing_data = train_test_split(data, test_size=0.2, random_state=RANDOM_SEED, stratify=data.fetal_health)\n",
    "    training_data, testing_data = FetalHealthData(training_data), FetalHealthData(testing_data)\n",
    "    return torch.utils.data.DataLoader(training_data, batch_size=batch_size, shuffle=True), torch.utils.data.DataLoader(testing_data, batch_size=batch_size, shuffle=False)"
   ]
  },
  {
   "cell_type": "code",
   "execution_count": null,
   "id": "ebb0a9e0-7b2b-4fc1-ba58-19e6763f9a35",
   "metadata": {},
   "outputs": [],
   "source": [
    "# HP: Optimizer, Learning Rate, Weight Decay\n",
    "def get_optimizer(model):\n",
    "    \n",
    "    ###\n",
    "    optimizer = OPTIMIZER\n",
    "    learning_rate = LEARNING_RATE\n",
    "    weight_decay = WEIGHT_DECAY\n",
    "    ###\n",
    "    \n",
    "    if optimizer == 'Adam':\n",
    "        return torch.optim.Adam(model.parameters(), lr=learning_rate, weight_decay=WEIGHT_DECAY)\n",
    "    elif optimizer == 'SGD':\n",
    "        return torch.optim.SGD(model.parameters(), lr=learning_rate, weight_decay=WEIGHT_DECAY)\n",
    "    elif optimizer == 'RMSprop':\n",
    "        return torch.optim.RMSprop(model.parameters(), lr=learning_rate, weight_decay=WEIGHT_DECAY)"
   ]
  },
  {
   "cell_type": "markdown",
   "id": "58c05bf2-3aa1-4b29-8c3f-061a33dccb8d",
   "metadata": {},
   "source": [
    "> **Erstellung des Trainings-Loops**:"
   ]
  },
  {
   "cell_type": "code",
   "execution_count": null,
   "id": "3a700c21-719b-4ff6-bb5c-44ca5696ff6f",
   "metadata": {},
   "outputs": [],
   "source": [
    "# HP: Scheduler\n",
    "def train(model, training_batches, testing_batches):\n",
    "    ###\n",
    "    scheduler = SCHEDULER\n",
    "    ###\n",
    "    \n",
    "    accuracy = list()\n",
    "    criterion = nn.CrossEntropyLoss()\n",
    "    optimizer = get_optimizer(model)\n",
    "    \n",
    "    if scheduler:\n",
    "        scheduler = CosineAnnealingLR(optimizer, EPOCHS-1, verbose=False)\n",
    "    \n",
    "    for epoch in range(EPOCHS):\n",
    "        ### Training\n",
    "        model.train()\n",
    "        for samples, labels in training_batches:\n",
    "            optimizer.zero_grad()\n",
    "            outputs = model(samples.float())\n",
    "            loss = criterion(outputs, labels.long())\n",
    "            loss.backward()\n",
    "            optimizer.step()\n",
    "        \n",
    "        num_samples = 0\n",
    "        correct_predictions = 0\n",
    "        ### Testing\n",
    "        model.eval()\n",
    "        with torch.no_grad():\n",
    "            for samples, labels in testing_batches:\n",
    "                output = model(samples.float())\n",
    "                correct_predictions += (output.argmax(dim=1) == labels).sum().item()\n",
    "                num_samples += labels.size(0)\n",
    "            \n",
    "        accuracy.append(100.0 * correct_predictions / num_samples)\n",
    "    \n",
    "    return accuracy"
   ]
  },
  {
   "cell_type": "markdown",
   "id": "1286c427-f2e9-4834-8305-6787046dc538",
   "metadata": {},
   "source": [
    "> **Training & Evaluation**:"
   ]
  },
  {
   "cell_type": "code",
   "execution_count": null,
   "id": "b01bd155-4250-4866-ae2a-530bd7f6e98c",
   "metadata": {},
   "outputs": [],
   "source": [
    "model = get_model()\n",
    "training_batches, testing_batches = get_data()\n",
    "history = train(model, training_batches, testing_batches)"
   ]
  },
  {
   "cell_type": "code",
   "execution_count": null,
   "id": "0a3ee36c-b95e-452d-835c-52a223263997",
   "metadata": {},
   "outputs": [],
   "source": [
    "plt.plot(history)\n",
    "plt.ylabel('validation accuracy')\n",
    "plt.xlabel('epoch')\n",
    "plt.grid()"
   ]
  },
  {
   "cell_type": "code",
   "execution_count": null,
   "id": "6732581d-e268-471b-8e8b-67c36c614551",
   "metadata": {},
   "outputs": [],
   "source": [
    "history[-1]"
   ]
  }
 ],
 "metadata": {
  "kernelspec": {
   "display_name": "Python 3 (ipykernel)",
   "language": "python",
   "name": "python3"
  },
  "language_info": {
   "codemirror_mode": {
    "name": "ipython",
    "version": 3
   },
   "file_extension": ".py",
   "mimetype": "text/x-python",
   "name": "python",
   "nbconvert_exporter": "python",
   "pygments_lexer": "ipython3",
   "version": "3.8.12"
  }
 },
 "nbformat": 4,
 "nbformat_minor": 5
}
