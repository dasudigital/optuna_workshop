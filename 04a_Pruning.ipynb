{
 "cells": [
  {
   "cell_type": "markdown",
   "id": "526d0083-e1d0-41d4-9063-93eba91b1efe",
   "metadata": {
    "tags": []
   },
   "source": [
    "***Author**: Alexander Telle, DASU - Transferzentrum für Digitalisierung, Analytics & Data Science Ulm*\n",
    "\n",
    "***Data Source**: [Kaggle](https://www.kaggle.com/datasets/andrewmvd/fetal-health-classification)*\n",
    "\n",
    "***Code Repository**: [GitHub](https://github.com/dasudigital/optuna_workshop)*\n",
    "\n",
    "***Licence**: [MIT License](https://github.com/dasudigital/optuna_workshop/blob/master/LICENSE)*\n",
    "\n",
    "***Optuna Documentation**: [https://optuna.readthedocs.io/en/stable/](https://optuna.readthedocs.io/en/stable/)*"
   ]
  },
  {
   "cell_type": "markdown",
   "id": "919c7278-f9d2-4a0f-b91b-2e69551ca4b9",
   "metadata": {},
   "source": [
    "# [III. Innovationskongress Data Science](https://studium.hs-ulm.de/de/research/Seiten/Innokongress.aspx)\n",
    "#### Workshop: Hyperparameter-Tuning (HPO) mit Optuna\n",
    "---"
   ]
  },
  {
   "cell_type": "markdown",
   "id": "2daa9ec8-0e85-451a-b0e8-dcf15ea375d9",
   "metadata": {},
   "source": [
    "> **Import der Bibliotheken & allgemeine Einstellungen**:"
   ]
  },
  {
   "cell_type": "code",
   "execution_count": null,
   "id": "fb0c9938-0ca2-4715-ac44-63f5af1ba393",
   "metadata": {},
   "outputs": [],
   "source": [
    "import pandas as pd\n",
    "import numpy as np\n",
    "import matplotlib.pyplot as plt\n",
    "import random\n",
    "import warnings\n",
    "warnings.filterwarnings('ignore')\n",
    "\n",
    "from sklearn.preprocessing import OrdinalEncoder\n",
    "from sklearn.model_selection import train_test_split\n",
    "from sklearn.utils.class_weight import compute_class_weight\n",
    "from torch.optim.lr_scheduler import CosineAnnealingLR\n",
    "\n",
    "import torch\n",
    "import torch.nn as nn\n",
    "\n",
    "###\n",
    "import optuna\n",
    "import torch.optim as optim\n",
    "###"
   ]
  },
  {
   "cell_type": "code",
   "execution_count": null,
   "id": "e7e74db7-34da-4c26-80df-20a03078e958",
   "metadata": {},
   "outputs": [],
   "source": [
    "EPOCHS = 50\n",
    "CLASSES = 3\n",
    "\n",
    "torch.manual_seed(42)\n",
    "random.seed(42)\n",
    "RANDOM_SEED = 42"
   ]
  },
  {
   "cell_type": "markdown",
   "id": "0e15fea7-7cb1-4bc1-8611-e1e05cf0c30c",
   "metadata": {},
   "source": [
    "> **Definition der Hyperparameter (Auswahl)**:"
   ]
  },
  {
   "cell_type": "raw",
   "id": "bd89a2da-c321-40fb-8cc0-587c6699f8e8",
   "metadata": {},
   "source": [
    "NN_ARCHITECTURE = [15, 10]\n",
    "BATCH_SIZE = 100\n",
    "OPTIMIZER = 'Adam' # SGD vs. Adam vs. RMSprop\n",
    "LEARNING_RATE = 1\n",
    "WEIGHT_DECAY = 1\n",
    "SCHEDULER = True"
   ]
  },
  {
   "cell_type": "raw",
   "id": "132aed6a-302d-452d-b44e-977c870b2d49",
   "metadata": {},
   "source": [
    "<img src='NN_Architecture.svg'>"
   ]
  },
  {
   "cell_type": "markdown",
   "id": "09ed8c28-1cf9-4983-96d6-7ad8c4e55f7c",
   "metadata": {},
   "source": [
    "> **Vorbereitung der Daten**:"
   ]
  },
  {
   "cell_type": "code",
   "execution_count": null,
   "id": "a208c069-1d47-4e8a-a31f-8ac1aaca3fe0",
   "metadata": {},
   "outputs": [],
   "source": [
    "data = pd.read_csv('Data.csv')\n",
    "data.head()"
   ]
  },
  {
   "cell_type": "code",
   "execution_count": null,
   "id": "d441d27b-ffc8-4932-bc4a-f6b7ae956411",
   "metadata": {},
   "outputs": [],
   "source": [
    "len(data)"
   ]
  },
  {
   "cell_type": "code",
   "execution_count": null,
   "id": "49f10486-ef67-42ed-917b-7a00a54b3519",
   "metadata": {},
   "outputs": [],
   "source": [
    "data.isnull().any().any()"
   ]
  },
  {
   "cell_type": "code",
   "execution_count": null,
   "id": "93d7662b-c01c-4949-ba4a-8bd287f1019c",
   "metadata": {},
   "outputs": [],
   "source": [
    "data.fetal_health.value_counts().plot(kind='bar')\n",
    "data.fetal_health.value_counts()"
   ]
  },
  {
   "cell_type": "code",
   "execution_count": null,
   "id": "a9f3fe70-4bce-4df6-ae6f-a043afbc3c18",
   "metadata": {},
   "outputs": [],
   "source": [
    "null_accuracy = data.fetal_health.value_counts()[1.0]/len(data)\n",
    "null_accuracy"
   ]
  },
  {
   "cell_type": "code",
   "execution_count": null,
   "id": "5066a2d2-ce45-4e31-9877-17a36a592cf3",
   "metadata": {},
   "outputs": [],
   "source": [
    "encoder = OrdinalEncoder()\n",
    "oe_columns = ['fetal_health']\n",
    "encoder.fit(data[oe_columns])\n",
    "data[oe_columns] = encoder.transform(data[oe_columns])"
   ]
  },
  {
   "cell_type": "code",
   "execution_count": null,
   "id": "469780ed-b1b6-4299-a569-bbe1a278d034",
   "metadata": {},
   "outputs": [],
   "source": [
    "data.fetal_health.value_counts()"
   ]
  },
  {
   "cell_type": "markdown",
   "id": "afef90c0-6041-4556-8585-a9050427fed8",
   "metadata": {},
   "source": [
    "> **Erstellung von Helfer-Klassen & -Methoden**:"
   ]
  },
  {
   "cell_type": "code",
   "execution_count": null,
   "id": "2d745fc7-b87e-400b-be7c-efd18690749b",
   "metadata": {},
   "outputs": [],
   "source": [
    "class FetalHealthData(torch.utils.data.Dataset):\n",
    "    def __init__(self, data):\n",
    "        self.labels = data.fetal_health.tolist()\n",
    "        self.features = data.drop(columns=['fetal_health'], axis=1).values.tolist()\n",
    "    \n",
    "    def __getitem__(self, index):\n",
    "        sample = np.array(self.features[index]), np.array(self.labels[index])\n",
    "        return sample\n",
    "        \n",
    "    def __len__(self):\n",
    "        return len(self.labels)"
   ]
  },
  {
   "cell_type": "code",
   "execution_count": null,
   "id": "edf81872-ff3b-4a3c-b5e5-b9d06965400d",
   "metadata": {},
   "outputs": [],
   "source": [
    "def get_model(params, trial):\n",
    "    # Suggesting Numbers of Hidden Layers\n",
    "    num_layers = trial.suggest_int('num_layers', 2, 4)\n",
    "    \n",
    "    layers = list()\n",
    "    \n",
    "    # 21 Input Features\n",
    "    in_features = len(data.drop(columns=['fetal_health'], axis=1).columns)\n",
    "    \n",
    "    # Suggest Numbers of Neurons for each Hidden Layer\n",
    "    for layer in range(num_layers):\n",
    "        out_features = trial.suggest_int(f'layer_{layer}', 8, 128)\n",
    "        layers.append(nn.Linear(in_features, out_features))\n",
    "        layers.append(nn.LeakyReLU())\n",
    "        \n",
    "        in_features = out_features\n",
    "    \n",
    "    layers.append(nn.Dropout())\n",
    "    layers.append(nn.Linear(in_features, CLASSES))\n",
    "\n",
    "    return nn.Sequential(*layers)"
   ]
  },
  {
   "cell_type": "code",
   "execution_count": null,
   "id": "409dfc39-4b8d-4ab8-a624-75c154dc7588",
   "metadata": {},
   "outputs": [],
   "source": [
    "# HP: Batch Size\n",
    "def get_data(params):\n",
    "    \n",
    "    ###\n",
    "    batch_size = params['batch_size']\n",
    "    ###\n",
    "    \n",
    "    training_data, testing_data = train_test_split(data, test_size=0.2, random_state=RANDOM_SEED, stratify=data.fetal_health)\n",
    "    training_data, testing_data = FetalHealthData(training_data), FetalHealthData(testing_data)\n",
    "    return torch.utils.data.DataLoader(training_data, batch_size=batch_size, shuffle=True), torch.utils.data.DataLoader(testing_data, batch_size=batch_size, shuffle=False)"
   ]
  },
  {
   "cell_type": "code",
   "execution_count": null,
   "id": "ebb0a9e0-7b2b-4fc1-ba58-19e6763f9a35",
   "metadata": {},
   "outputs": [],
   "source": [
    "# HP: Optimizer, Learning Rate, Weight Decay\n",
    "def get_optimizer(model, params):\n",
    "    \n",
    "    ###\n",
    "    optimizer = params['optimizer']\n",
    "    learning_rate = params['learning_rate']\n",
    "    weight_decay = params['weight_decay']\n",
    "    ###\n",
    "    \n",
    "    if optimizer == 'Adam':\n",
    "        return torch.optim.Adam(model.parameters(), lr=learning_rate, weight_decay=weight_decay)\n",
    "    elif optimizer == 'SGD':\n",
    "        return torch.optim.SGD(model.parameters(), lr=learning_rate, weight_decay=weight_decay)\n",
    "    elif optimizer == 'RMSprop':\n",
    "        return torch.optim.RMSprop(model.parameters(), lr=learning_rate, weight_decay=weight_decay)\n",
    "    \n",
    "    # return getattr(optim, optimizer)(model.parameters(), lr=learning_rate, weight_decay=weight_decay)"
   ]
  },
  {
   "cell_type": "markdown",
   "id": "58c05bf2-3aa1-4b29-8c3f-061a33dccb8d",
   "metadata": {},
   "source": [
    "> **Erstellung des Trainings-Loops**:"
   ]
  },
  {
   "cell_type": "code",
   "execution_count": null,
   "id": "3a700c21-719b-4ff6-bb5c-44ca5696ff6f",
   "metadata": {},
   "outputs": [],
   "source": [
    "# HP: Scheduler\n",
    "def train(model, training_batches, testing_batches, params):\n",
    "    ###\n",
    "    scheduler = params['scheduler']\n",
    "    ###\n",
    "    \n",
    "    accuracy = list()\n",
    "    criterion = nn.CrossEntropyLoss()\n",
    "    \n",
    "    ###\n",
    "    optimizer = get_optimizer(model, params)\n",
    "    ###\n",
    "    \n",
    "    if scheduler:\n",
    "        scheduler = CosineAnnealingLR(optimizer, EPOCHS-1, verbose=False)\n",
    "    \n",
    "    for epoch in range(EPOCHS):\n",
    "        ### Training\n",
    "        model.train()\n",
    "        for samples, labels in training_batches:\n",
    "            optimizer.zero_grad()\n",
    "            outputs = model(samples.float())\n",
    "            loss = criterion(outputs, labels.long())\n",
    "            loss.backward()\n",
    "            optimizer.step()\n",
    "        \n",
    "        num_samples = 0\n",
    "        correct_predictions = 0\n",
    "        ### Testing\n",
    "        model.eval()\n",
    "        with torch.no_grad():\n",
    "            for samples, labels in testing_batches:\n",
    "                output = model(samples.float())\n",
    "                correct_predictions += (output.argmax(dim=1) == labels).sum().item()\n",
    "                num_samples += labels.size(0)\n",
    "        \n",
    "        ###\n",
    "        accuracy.append(100.0 * correct_predictions / num_samples)\n",
    "        ###\n",
    "    \n",
    "    return accuracy"
   ]
  },
  {
   "cell_type": "markdown",
   "id": "5ff29fa9-a7ca-40f9-82c1-108179780077",
   "metadata": {},
   "source": [
    "> **Erstellung einer Optuna-Studie**:"
   ]
  },
  {
   "cell_type": "code",
   "execution_count": null,
   "id": "3599adc1-b010-446d-a7aa-5bd921269177",
   "metadata": {},
   "outputs": [],
   "source": [
    "###\n",
    "study = optuna.create_study(direction='maximize', sampler=optuna.samplers.TPESampler(seed=RANDOM_SEED))\n",
    "###"
   ]
  },
  {
   "cell_type": "markdown",
   "id": "1286c427-f2e9-4834-8305-6787046dc538",
   "metadata": {},
   "source": [
    "> **Definition der Zielfunktion**:"
   ]
  },
  {
   "cell_type": "code",
   "execution_count": null,
   "id": "b01bd155-4250-4866-ae2a-530bd7f6e98c",
   "metadata": {},
   "outputs": [],
   "source": [
    "def objective(trial):\n",
    "    params = {\n",
    "        'batch_size': trial.suggest_int('batch_size', 8, 128),\n",
    "        'optimizer': trial.suggest_categorical('optimizer', ['SGD', 'Adam', 'RMSprop']),\n",
    "        'learning_rate': trial.suggest_loguniform('learning_rate', 1e-5, 1e-1),\n",
    "        'weight_decay': trial.suggest_loguniform('weight_decay', 1e-5, 1e-1),\n",
    "        'scheduler': True if trial.suggest_int('scheduler', 0, 1) == 1 else False\n",
    "    }\n",
    "    \n",
    "    ###\n",
    "    model = get_model(params, trial)\n",
    "    ###\n",
    "    \n",
    "    training_batches, testing_batches = get_data(params)\n",
    "    \n",
    "    ###\n",
    "    history = train(model, training_batches, testing_batches, params)\n",
    "    ###\n",
    "    \n",
    "    # Fitness-Value\n",
    "    return history[-1]"
   ]
  },
  {
   "cell_type": "markdown",
   "id": "b107f1c9-882c-4272-b5bc-54a4a4505a7c",
   "metadata": {},
   "source": [
    "> **Optimierung der Hyperparameter**:"
   ]
  },
  {
   "cell_type": "code",
   "execution_count": null,
   "id": "20eb1802-014c-4c79-a16a-30736f8120b7",
   "metadata": {},
   "outputs": [],
   "source": [
    "study.optimize(objective, n_trials=5)"
   ]
  },
  {
   "cell_type": "code",
   "execution_count": null,
   "id": "49b17527-a043-4fe5-9d15-a8f8391812f9",
   "metadata": {},
   "outputs": [],
   "source": [
    "study.best_params"
   ]
  },
  {
   "cell_type": "code",
   "execution_count": null,
   "id": "aa97c2f7-5857-4cbb-a1e3-b98ada8d250d",
   "metadata": {},
   "outputs": [],
   "source": [
    "study.optimize(objective, n_trials=2)"
   ]
  },
  {
   "cell_type": "code",
   "execution_count": null,
   "id": "8c89a8d3-f4be-4733-b293-77ea7fcf1ed5",
   "metadata": {},
   "outputs": [],
   "source": [
    "study.best_params"
   ]
  }
 ],
 "metadata": {
  "kernelspec": {
   "display_name": "Python 3 (ipykernel)",
   "language": "python",
   "name": "python3"
  },
  "language_info": {
   "codemirror_mode": {
    "name": "ipython",
    "version": 3
   },
   "file_extension": ".py",
   "mimetype": "text/x-python",
   "name": "python",
   "nbconvert_exporter": "python",
   "pygments_lexer": "ipython3",
   "version": "3.8.12"
  }
 },
 "nbformat": 4,
 "nbformat_minor": 5
}
